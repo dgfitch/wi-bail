{
 "cells": [
  {
   "cell_type": "code",
   "execution_count": 1,
   "id": "electrical-grove",
   "metadata": {},
   "outputs": [],
   "source": [
    "import altair as alt\n",
    "import pandas as pd\n",
    "from pony.orm import *\n",
    "from datetime import datetime\n",
    "import random\n",
    "from bail.db import DB, Case, Inmate"
   ]
  },
  {
   "cell_type": "code",
   "execution_count": 2,
   "id": "scientific-coalition",
   "metadata": {},
   "outputs": [],
   "source": [
    "# Connect to SQLite database using Pony\n",
    "db = DB()"
   ]
  },
  {
   "cell_type": "code",
   "execution_count": 3,
   "id": "rational-wiring",
   "metadata": {},
   "outputs": [],
   "source": [
    "statuses = set(select(i.status for i in Inmate))\n",
    "pretrial = set(s for s in statuses if (\"Prearraignment\" in s or \"Pretrial\" in s))\n",
    "  \n",
    "pretrial_inmates = list(select(i for i in Inmate if i.status in pretrial))\n",
    "other_inmates = list(select(i for i in Inmate if not i.status in pretrial))\n",
    "  \n",
    "black_pretrial_inmates = list(select(i for i in Inmate if i.race == \"African American\" and i.status in pretrial))\n",
    "white_pretrial_inmates = list(select(i for i in Inmate if i.race == \"Caucasian\" and i.status in pretrial))\n",
    "other_pretrial_inmates = list(select(i for i in Inmate if \n",
    "                                   i.race != \"African American\" and \n",
    "                                   i.race != \"Caucasian\" and\n",
    "                                   i.status in pretrial))"
   ]
  },
  {
   "cell_type": "code",
   "execution_count": 4,
   "id": "subtle-belgium",
   "metadata": {},
   "outputs": [
    {
     "data": {
      "text/plain": [
       "{'20CF002901', '20CM002627', '21CF000085', '21CF000175', '21CF000613'}"
      ]
     },
     "execution_count": 4,
     "metadata": {},
     "output_type": "execute_result"
    }
   ],
   "source": [
    "ex = black_pretrial_inmates[0]\n",
    "list(ex.cases)\n",
    "ex.case_numbers()"
   ]
  },
  {
   "cell_type": "code",
   "execution_count": 21,
   "id": "balanced-reservoir",
   "metadata": {},
   "outputs": [],
   "source": [
    "def severity(inmate):\n",
    "    if any(\"Felony\" in x.severity for c in inmate.cases for x in c.charges):\n",
    "        return 'felony'\n",
    "    else:\n",
    "        return 'misdemeanor'\n",
    "    \n",
    "def bail_value(inmate):\n",
    "    bails = [c.cash_bond for c in inmate.cases if c.cash_bond]\n",
    "    if len(bails) == 0:\n",
    "        bails = [0]\n",
    "    return max(bails)\n",
    "\n",
    "def build_data(inmates):\n",
    "    return pd.DataFrame([{\n",
    "        'race': x.race,\n",
    "        'bail': bail_value(x),\n",
    "        'days_in_prison': x.days_in_prison(),\n",
    "        'severity': severity(x),\n",
    "    } for x in inmates])\n",
    "\n",
    "data = build_data(pretrial_inmates)"
   ]
  },
  {
   "cell_type": "code",
   "execution_count": 32,
   "id": "meaning-contact",
   "metadata": {},
   "outputs": [
    {
     "data": {
      "text/html": [
       "\n",
       "<div id=\"altair-viz-d183856cccf546ca9fc29a9bee745d03\"></div>\n",
       "<script type=\"text/javascript\">\n",
       "  (function(spec, embedOpt){\n",
       "    let outputDiv = document.currentScript.previousElementSibling;\n",
       "    if (outputDiv.id !== \"altair-viz-d183856cccf546ca9fc29a9bee745d03\") {\n",
       "      outputDiv = document.getElementById(\"altair-viz-d183856cccf546ca9fc29a9bee745d03\");\n",
       "    }\n",
       "    const paths = {\n",
       "      \"vega\": \"https://cdn.jsdelivr.net/npm//vega@5?noext\",\n",
       "      \"vega-lib\": \"https://cdn.jsdelivr.net/npm//vega-lib?noext\",\n",
       "      \"vega-lite\": \"https://cdn.jsdelivr.net/npm//vega-lite@4.8.1?noext\",\n",
       "      \"vega-embed\": \"https://cdn.jsdelivr.net/npm//vega-embed@6?noext\",\n",
       "    };\n",
       "\n",
       "    function loadScript(lib) {\n",
       "      return new Promise(function(resolve, reject) {\n",
       "        var s = document.createElement('script');\n",
       "        s.src = paths[lib];\n",
       "        s.async = true;\n",
       "        s.onload = () => resolve(paths[lib]);\n",
       "        s.onerror = () => reject(`Error loading script: ${paths[lib]}`);\n",
       "        document.getElementsByTagName(\"head\")[0].appendChild(s);\n",
       "      });\n",
       "    }\n",
       "\n",
       "    function showError(err) {\n",
       "      outputDiv.innerHTML = `<div class=\"error\" style=\"color:red;\">${err}</div>`;\n",
       "      throw err;\n",
       "    }\n",
       "\n",
       "    function displayChart(vegaEmbed) {\n",
       "      vegaEmbed(outputDiv, spec, embedOpt)\n",
       "        .catch(err => showError(`Javascript Error: ${err.message}<br>This usually means there's a typo in your chart specification. See the javascript console for the full traceback.`));\n",
       "    }\n",
       "\n",
       "    if(typeof define === \"function\" && define.amd) {\n",
       "      requirejs.config({paths});\n",
       "      require([\"vega-embed\"], displayChart, err => showError(`Error loading script: ${err.message}`));\n",
       "    } else if (typeof vegaEmbed === \"function\") {\n",
       "      displayChart(vegaEmbed);\n",
       "    } else {\n",
       "      loadScript(\"vega\")\n",
       "        .then(() => loadScript(\"vega-lite\"))\n",
       "        .then(() => loadScript(\"vega-embed\"))\n",
       "        .catch(showError)\n",
       "        .then(() => displayChart(vegaEmbed));\n",
       "    }\n",
       "  })({\"config\": {\"view\": {\"continuousWidth\": 400, \"continuousHeight\": 300}}, \"data\": {\"name\": \"data-8efb86683f05022e58eedc36ceeb7c1f\"}, \"facet\": {\"row\": {\"type\": \"nominal\", \"field\": \"severity\"}}, \"spec\": {\"mark\": {\"type\": \"point\", \"clip\": true, \"size\": 10}, \"encoding\": {\"color\": {\"type\": \"nominal\", \"field\": \"race\", \"scale\": {\"domain\": [\"African American\", \"American Indian or Alaskan Native\", \"Asian or Pacific Islander\", \"Caucasian\", \"Hispanic\", \"Unknown\"], \"range\": [\"red\", \"green\", \"blue\", \"orange\", \"purple\", \"grey\"]}}, \"x\": {\"type\": \"quantitative\", \"field\": \"bail\", \"scale\": {\"domain\": [0, 1000]}}, \"y\": {\"type\": \"quantitative\", \"field\": \"days_in_prison\", \"scale\": {\"domain\": [0, 365]}}}}, \"$schema\": \"https://vega.github.io/schema/vega-lite/v4.8.1.json\", \"datasets\": {\"data-8efb86683f05022e58eedc36ceeb7c1f\": [{\"race\": \"African American\", \"bail\": 0.0, \"days_in_prison\": 107, \"severity\": \"felony\"}, {\"race\": \"Caucasian\", \"bail\": 0.0, \"days_in_prison\": 171, \"severity\": \"misdemeanor\"}, {\"race\": \"African American\", \"bail\": 60000.0, \"days_in_prison\": 233, \"severity\": \"felony\"}, {\"race\": \"African American\", \"bail\": 500.0, \"days_in_prison\": 14, \"severity\": \"misdemeanor\"}, {\"race\": \"Caucasian\", \"bail\": 100.0, \"days_in_prison\": 316, \"severity\": \"misdemeanor\"}, {\"race\": \"African American\", \"bail\": 15000.0, \"days_in_prison\": 37, \"severity\": \"felony\"}, {\"race\": \"Hispanic\", \"bail\": 1000.0, \"days_in_prison\": 81, \"severity\": \"felony\"}, {\"race\": \"African American\", \"bail\": 150.0, \"days_in_prison\": 6, \"severity\": \"misdemeanor\"}, {\"race\": \"Caucasian\", \"bail\": 1000000.0, \"days_in_prison\": 1228, \"severity\": \"felony\"}, {\"race\": \"Caucasian\", \"bail\": 150.0, \"days_in_prison\": 24, \"severity\": \"misdemeanor\"}, {\"race\": \"Caucasian\", \"bail\": 1000000.0, \"days_in_prison\": 471, \"severity\": \"felony\"}, {\"race\": \"African American\", \"bail\": 2000.0, \"days_in_prison\": 65, \"severity\": \"felony\"}, {\"race\": \"Caucasian\", \"bail\": 0.0, \"days_in_prison\": 22, \"severity\": \"felony\"}, {\"race\": \"Caucasian\", \"bail\": 0.0, \"days_in_prison\": 4, \"severity\": \"felony\"}, {\"race\": \"American Indian or Alaskan Native\", \"bail\": 200.0, \"days_in_prison\": 27, \"severity\": \"felony\"}, {\"race\": \"Caucasian\", \"bail\": 0.0, \"days_in_prison\": 47, \"severity\": \"misdemeanor\"}, {\"race\": \"Caucasian\", \"bail\": 1000.0, \"days_in_prison\": 180, \"severity\": \"felony\"}, {\"race\": \"African American\", \"bail\": 30000.0, \"days_in_prison\": 298, \"severity\": \"felony\"}, {\"race\": \"African American\", \"bail\": 300.0, \"days_in_prison\": 17, \"severity\": \"misdemeanor\"}, {\"race\": \"Caucasian\", \"bail\": 300.0, \"days_in_prison\": 65, \"severity\": \"felony\"}, {\"race\": \"African American\", \"bail\": 5000.0, \"days_in_prison\": 253, \"severity\": \"felony\"}, {\"race\": \"African American\", \"bail\": 10000.0, \"days_in_prison\": 119, \"severity\": \"felony\"}, {\"race\": \"African American\", \"bail\": 250000.0, \"days_in_prison\": 15, \"severity\": \"felony\"}, {\"race\": \"African American\", \"bail\": 0.0, \"days_in_prison\": 25, \"severity\": \"felony\"}, {\"race\": \"African American\", \"bail\": 2000.0, \"days_in_prison\": 41, \"severity\": \"felony\"}, {\"race\": \"Caucasian\", \"bail\": 0.0, \"days_in_prison\": 46, \"severity\": \"misdemeanor\"}, {\"race\": \"African American\", \"bail\": 8000.0, \"days_in_prison\": 29, \"severity\": \"felony\"}, {\"race\": \"Hispanic\", \"bail\": 10000.0, \"days_in_prison\": 77, \"severity\": \"felony\"}, {\"race\": \"\", \"bail\": 0.0, \"days_in_prison\": 3, \"severity\": \"misdemeanor\"}, {\"race\": \"African American\", \"bail\": 0.0, \"days_in_prison\": 25, \"severity\": \"felony\"}, {\"race\": \"Caucasian\", \"bail\": 200.0, \"days_in_prison\": 44, \"severity\": \"misdemeanor\"}, {\"race\": \"African American\", \"bail\": 500000.0, \"days_in_prison\": 556, \"severity\": \"felony\"}, {\"race\": \"\", \"bail\": 0.0, \"days_in_prison\": 4, \"severity\": \"misdemeanor\"}, {\"race\": \"African American\", \"bail\": 30000.0, \"days_in_prison\": 212, \"severity\": \"felony\"}, {\"race\": \"\", \"bail\": 0.0, \"days_in_prison\": 48, \"severity\": \"misdemeanor\"}, {\"race\": \"African American\", \"bail\": 3000.0, \"days_in_prison\": 70, \"severity\": \"felony\"}, {\"race\": \"\", \"bail\": 0.0, \"days_in_prison\": 3, \"severity\": \"misdemeanor\"}, {\"race\": \"African American\", \"bail\": 0.0, \"days_in_prison\": 108, \"severity\": \"misdemeanor\"}, {\"race\": \"African American\", \"bail\": 20000.0, \"days_in_prison\": 29, \"severity\": \"felony\"}, {\"race\": \"African American\", \"bail\": 1000.0, \"days_in_prison\": 228, \"severity\": \"felony\"}, {\"race\": \"Caucasian\", \"bail\": 0.0, \"days_in_prison\": 13, \"severity\": \"misdemeanor\"}, {\"race\": \"African American\", \"bail\": 0.0, \"days_in_prison\": 94, \"severity\": \"felony\"}, {\"race\": \"African American\", \"bail\": 100.0, \"days_in_prison\": 410, \"severity\": \"misdemeanor\"}, {\"race\": \"Hispanic\", \"bail\": 10000.0, \"days_in_prison\": 28, \"severity\": \"felony\"}, {\"race\": \"African American\", \"bail\": 5000.0, \"days_in_prison\": 61, \"severity\": \"felony\"}, {\"race\": \"Hispanic\", \"bail\": 0.0, \"days_in_prison\": 29, \"severity\": \"felony\"}, {\"race\": \"African American\", \"bail\": 0.0, \"days_in_prison\": 297, \"severity\": \"felony\"}, {\"race\": \"African American\", \"bail\": 300.0, \"days_in_prison\": 5, \"severity\": \"felony\"}, {\"race\": \"African American\", \"bail\": 250000.0, \"days_in_prison\": 318, \"severity\": \"felony\"}, {\"race\": \"African American\", \"bail\": 250.0, \"days_in_prison\": 60, \"severity\": \"misdemeanor\"}, {\"race\": \"Caucasian\", \"bail\": 2000.0, \"days_in_prison\": 14, \"severity\": \"felony\"}, {\"race\": \"African American\", \"bail\": 500.0, \"days_in_prison\": 94, \"severity\": \"felony\"}, {\"race\": \"African American\", \"bail\": 0.0, \"days_in_prison\": 63, \"severity\": \"felony\"}, {\"race\": \"African American\", \"bail\": 250.0, \"days_in_prison\": 84, \"severity\": \"misdemeanor\"}, {\"race\": \"Caucasian\", \"bail\": 2000.0, \"days_in_prison\": 419, \"severity\": \"felony\"}, {\"race\": \"African American\", \"bail\": 250000.0, \"days_in_prison\": 481, \"severity\": \"felony\"}, {\"race\": \"Caucasian\", \"bail\": 250000.0, \"days_in_prison\": 610, \"severity\": \"felony\"}, {\"race\": \"African American\", \"bail\": 1500.0, \"days_in_prison\": 256, \"severity\": \"felony\"}, {\"race\": \"Hispanic\", \"bail\": 100.0, \"days_in_prison\": 493, \"severity\": \"misdemeanor\"}, {\"race\": \"Caucasian\", \"bail\": 5000.0, \"days_in_prison\": 299, \"severity\": \"felony\"}, {\"race\": \"African American\", \"bail\": 5000.0, \"days_in_prison\": 89, \"severity\": \"felony\"}, {\"race\": \"African American\", \"bail\": 50000.0, \"days_in_prison\": 667, \"severity\": \"felony\"}, {\"race\": \"African American\", \"bail\": 50000.0, \"days_in_prison\": 164, \"severity\": \"felony\"}, {\"race\": \"\", \"bail\": 0.0, \"days_in_prison\": 3, \"severity\": \"misdemeanor\"}, {\"race\": \"African American\", \"bail\": 500.0, \"days_in_prison\": 211, \"severity\": \"felony\"}, {\"race\": \"Hispanic\", \"bail\": 4000.0, \"days_in_prison\": 135, \"severity\": \"felony\"}, {\"race\": \"African American\", \"bail\": 1450.0, \"days_in_prison\": 6, \"severity\": \"felony\"}, {\"race\": \"African American\", \"bail\": 0.0, \"days_in_prison\": 27, \"severity\": \"felony\"}, {\"race\": \"African American\", \"bail\": 5000.0, \"days_in_prison\": 42, \"severity\": \"felony\"}, {\"race\": \"African American\", \"bail\": 250.0, \"days_in_prison\": 98, \"severity\": \"felony\"}, {\"race\": \"African American\", \"bail\": 250.0, \"days_in_prison\": 161, \"severity\": \"felony\"}, {\"race\": \"Caucasian\", \"bail\": 15000.0, \"days_in_prison\": 722, \"severity\": \"felony\"}, {\"race\": \"Caucasian\", \"bail\": 50000.0, \"days_in_prison\": 25, \"severity\": \"felony\"}, {\"race\": \"Hispanic\", \"bail\": 1000.0, \"days_in_prison\": 107, \"severity\": \"felony\"}, {\"race\": \"African American\", \"bail\": 3000.0, \"days_in_prison\": 29, \"severity\": \"felony\"}, {\"race\": \"Caucasian\", \"bail\": 0.0, \"days_in_prison\": 55, \"severity\": \"felony\"}, {\"race\": \"African American\", \"bail\": 1000.0, \"days_in_prison\": 272, \"severity\": \"felony\"}, {\"race\": \"Caucasian\", \"bail\": 200.0, \"days_in_prison\": 284, \"severity\": \"felony\"}, {\"race\": \"African American\", \"bail\": 100.0, \"days_in_prison\": 94, \"severity\": \"misdemeanor\"}, {\"race\": \"Caucasian\", \"bail\": 100.0, \"days_in_prison\": 50, \"severity\": \"misdemeanor\"}, {\"race\": \"Caucasian\", \"bail\": 10000.0, \"days_in_prison\": 86, \"severity\": \"felony\"}, {\"race\": \"African American\", \"bail\": 1000.0, \"days_in_prison\": 44, \"severity\": \"felony\"}, {\"race\": \"African American\", \"bail\": 1000.0, \"days_in_prison\": 437, \"severity\": \"felony\"}, {\"race\": \"Caucasian\", \"bail\": 500.0, \"days_in_prison\": 5, \"severity\": \"felony\"}, {\"race\": \"Caucasian\", \"bail\": 500.0, \"days_in_prison\": 13, \"severity\": \"felony\"}, {\"race\": \"\", \"bail\": 0.0, \"days_in_prison\": 2, \"severity\": \"misdemeanor\"}, {\"race\": \"African American\", \"bail\": 100000.0, \"days_in_prison\": 450, \"severity\": \"felony\"}, {\"race\": \"African American\", \"bail\": 0.0, \"days_in_prison\": 594, \"severity\": \"misdemeanor\"}, {\"race\": \"African American\", \"bail\": 250000.0, \"days_in_prison\": 629, \"severity\": \"felony\"}, {\"race\": \"\", \"bail\": 0.0, \"days_in_prison\": 6, \"severity\": \"misdemeanor\"}, {\"race\": \"African American\", \"bail\": 2500.0, \"days_in_prison\": 15, \"severity\": \"felony\"}, {\"race\": \"African American\", \"bail\": 500.0, \"days_in_prison\": 84, \"severity\": \"felony\"}, {\"race\": \"African American\", \"bail\": 10000.0, \"days_in_prison\": 66, \"severity\": \"felony\"}, {\"race\": \"Caucasian\", \"bail\": 7500.0, \"days_in_prison\": 284, \"severity\": \"felony\"}, {\"race\": \"African American\", \"bail\": 0.0, \"days_in_prison\": 3, \"severity\": \"felony\"}, {\"race\": \"African American\", \"bail\": 30000.0, \"days_in_prison\": 168, \"severity\": \"felony\"}, {\"race\": \"African American\", \"bail\": 0.0, \"days_in_prison\": 700, \"severity\": \"felony\"}, {\"race\": \"African American\", \"bail\": 1000.0, \"days_in_prison\": 539, \"severity\": \"felony\"}, {\"race\": \"African American\", \"bail\": 2000.0, \"days_in_prison\": 23, \"severity\": \"felony\"}, {\"race\": \"African American\", \"bail\": 150.0, \"days_in_prison\": 73, \"severity\": \"felony\"}, {\"race\": \"African American\", \"bail\": 5000.0, \"days_in_prison\": 241, \"severity\": \"felony\"}, {\"race\": \"African American\", \"bail\": 250.0, \"days_in_prison\": 30, \"severity\": \"misdemeanor\"}, {\"race\": \"African American\", \"bail\": 1000000.0, \"days_in_prison\": 370, \"severity\": \"felony\"}, {\"race\": \"African American\", \"bail\": 1000.0, \"days_in_prison\": 551, \"severity\": \"felony\"}, {\"race\": \"African American\", \"bail\": 1600.0, \"days_in_prison\": 7, \"severity\": \"felony\"}, {\"race\": \"Caucasian\", \"bail\": 7500.0, \"days_in_prison\": 311, \"severity\": \"felony\"}, {\"race\": \"\", \"bail\": 0.0, \"days_in_prison\": 4, \"severity\": \"misdemeanor\"}, {\"race\": \"African American\", \"bail\": 1000000.0, \"days_in_prison\": 371, \"severity\": \"felony\"}, {\"race\": \"Caucasian\", \"bail\": 2500.0, \"days_in_prison\": 352, \"severity\": \"felony\"}, {\"race\": \"\", \"bail\": 0.0, \"days_in_prison\": 5, \"severity\": \"misdemeanor\"}, {\"race\": \"African American\", \"bail\": 0.0, \"days_in_prison\": 50, \"severity\": \"misdemeanor\"}, {\"race\": \"African American\", \"bail\": 3500.0, \"days_in_prison\": 11, \"severity\": \"felony\"}, {\"race\": \"African American\", \"bail\": 5000.0, \"days_in_prison\": 56, \"severity\": \"felony\"}, {\"race\": \"African American\", \"bail\": 1000.0, \"days_in_prison\": 38, \"severity\": \"misdemeanor\"}, {\"race\": \"Caucasian\", \"bail\": 500.0, \"days_in_prison\": 80, \"severity\": \"felony\"}, {\"race\": \"African American\", \"bail\": 4500.0, \"days_in_prison\": 596, \"severity\": \"felony\"}, {\"race\": \"\", \"bail\": 0.0, \"days_in_prison\": 3, \"severity\": \"misdemeanor\"}, {\"race\": \"Caucasian\", \"bail\": 5000.0, \"days_in_prison\": 666, \"severity\": \"felony\"}, {\"race\": \"Caucasian\", \"bail\": 0.0, \"days_in_prison\": 7, \"severity\": \"misdemeanor\"}, {\"race\": \"\", \"bail\": 0.0, \"days_in_prison\": 3, \"severity\": \"misdemeanor\"}, {\"race\": \"Caucasian\", \"bail\": 5000.0, \"days_in_prison\": 17, \"severity\": \"felony\"}, {\"race\": \"Hispanic\", \"bail\": 300.0, \"days_in_prison\": 94, \"severity\": \"felony\"}, {\"race\": \"African American\", \"bail\": 5000.0, \"days_in_prison\": 263, \"severity\": \"felony\"}, {\"race\": \"African American\", \"bail\": 1000.0, \"days_in_prison\": 93, \"severity\": \"felony\"}, {\"race\": \"African American\", \"bail\": 500.0, \"days_in_prison\": 15, \"severity\": \"felony\"}, {\"race\": \"\", \"bail\": 0.0, \"days_in_prison\": 5, \"severity\": \"misdemeanor\"}, {\"race\": \"African American\", \"bail\": 15000.0, \"days_in_prison\": 16, \"severity\": \"felony\"}, {\"race\": \"\", \"bail\": 0.0, \"days_in_prison\": 12, \"severity\": \"misdemeanor\"}, {\"race\": \"\", \"bail\": 0.0, \"days_in_prison\": 4, \"severity\": \"misdemeanor\"}, {\"race\": \"African American\", \"bail\": 50000.0, \"days_in_prison\": 30, \"severity\": \"felony\"}, {\"race\": \"African American\", \"bail\": 0.0, \"days_in_prison\": 98, \"severity\": \"misdemeanor\"}, {\"race\": \"African American\", \"bail\": 5000.0, \"days_in_prison\": 177, \"severity\": \"felony\"}, {\"race\": \"African American\", \"bail\": 1500000.0, \"days_in_prison\": 233, \"severity\": \"felony\"}, {\"race\": \"African American\", \"bail\": 10000.0, \"days_in_prison\": 381, \"severity\": \"felony\"}, {\"race\": \"African American\", \"bail\": 150000.0, \"days_in_prison\": 150, \"severity\": \"felony\"}, {\"race\": \"Asian or Pacific Islander\", \"bail\": 500000.0, \"days_in_prison\": 317, \"severity\": \"felony\"}, {\"race\": \"Asian or Pacific Islander\", \"bail\": 0.0, \"days_in_prison\": 55, \"severity\": \"felony\"}, {\"race\": \"African American\", \"bail\": 250.0, \"days_in_prison\": 119, \"severity\": \"misdemeanor\"}, {\"race\": \"African American\", \"bail\": 500.0, \"days_in_prison\": 45, \"severity\": \"felony\"}, {\"race\": \"Caucasian\", \"bail\": 200.0, \"days_in_prison\": 129, \"severity\": \"misdemeanor\"}, {\"race\": \"African American\", \"bail\": 500.0, \"days_in_prison\": 39, \"severity\": \"felony\"}, {\"race\": \"African American\", \"bail\": 100.0, \"days_in_prison\": 12, \"severity\": \"felony\"}, {\"race\": \"\", \"bail\": 0.0, \"days_in_prison\": 3, \"severity\": \"misdemeanor\"}, {\"race\": \"African American\", \"bail\": 0.0, \"days_in_prison\": 325, \"severity\": \"misdemeanor\"}, {\"race\": \"African American\", \"bail\": 1150.0, \"days_in_prison\": 16, \"severity\": \"felony\"}, {\"race\": \"Caucasian\", \"bail\": 50000.0, \"days_in_prison\": 165, \"severity\": \"felony\"}, {\"race\": \"African American\", \"bail\": 3000.0, \"days_in_prison\": 52, \"severity\": \"felony\"}, {\"race\": \"Caucasian\", \"bail\": 25000.0, \"days_in_prison\": 304, \"severity\": \"felony\"}, {\"race\": \"Caucasian\", \"bail\": 0.0, \"days_in_prison\": 117, \"severity\": \"felony\"}, {\"race\": \"Caucasian\", \"bail\": 250.0, \"days_in_prison\": 17, \"severity\": \"misdemeanor\"}, {\"race\": \"African American\", \"bail\": 5000.0, \"days_in_prison\": 149, \"severity\": \"felony\"}, {\"race\": \"\", \"bail\": 0.0, \"days_in_prison\": 5, \"severity\": \"misdemeanor\"}, {\"race\": \"African American\", \"bail\": 750.0, \"days_in_prison\": 13, \"severity\": \"felony\"}, {\"race\": \"\", \"bail\": 0.0, \"days_in_prison\": 3, \"severity\": \"misdemeanor\"}, {\"race\": \"African American\", \"bail\": 0.0, \"days_in_prison\": 217, \"severity\": \"felony\"}, {\"race\": \"Caucasian\", \"bail\": 0.0, \"days_in_prison\": 73, \"severity\": \"felony\"}, {\"race\": \"African American\", \"bail\": 0.0, \"days_in_prison\": 91, \"severity\": \"felony\"}, {\"race\": \"African American\", \"bail\": 50000.0, \"days_in_prison\": 144, \"severity\": \"felony\"}, {\"race\": \"Caucasian\", \"bail\": 0.0, \"days_in_prison\": 6, \"severity\": \"misdemeanor\"}, {\"race\": \"African American\", \"bail\": 0.0, \"days_in_prison\": 3, \"severity\": \"misdemeanor\"}, {\"race\": \"African American\", \"bail\": 75000.0, \"days_in_prison\": 225, \"severity\": \"felony\"}, {\"race\": \"\", \"bail\": 0.0, \"days_in_prison\": 3, \"severity\": \"misdemeanor\"}, {\"race\": \"African American\", \"bail\": 1000.0, \"days_in_prison\": 272, \"severity\": \"felony\"}, {\"race\": \"\", \"bail\": 0.0, \"days_in_prison\": 5, \"severity\": \"misdemeanor\"}, {\"race\": \"African American\", \"bail\": 1000.0, \"days_in_prison\": 17, \"severity\": \"felony\"}, {\"race\": \"Caucasian\", \"bail\": 5000.0, \"days_in_prison\": 46, \"severity\": \"felony\"}, {\"race\": \"African American\", \"bail\": 5000.0, \"days_in_prison\": 23, \"severity\": \"felony\"}, {\"race\": \"African American\", \"bail\": 2000000.0, \"days_in_prison\": 240, \"severity\": \"felony\"}, {\"race\": \"African American\", \"bail\": 5000.0, \"days_in_prison\": 77, \"severity\": \"felony\"}, {\"race\": \"Caucasian\", \"bail\": 1000000.0, \"days_in_prison\": 252, \"severity\": \"felony\"}, {\"race\": \"Caucasian\", \"bail\": 500.0, \"days_in_prison\": 4, \"severity\": \"misdemeanor\"}, {\"race\": \"African American\", \"bail\": 150.0, \"days_in_prison\": 43, \"severity\": \"misdemeanor\"}, {\"race\": \"Caucasian\", \"bail\": 5000.0, \"days_in_prison\": 248, \"severity\": \"felony\"}, {\"race\": \"African American\", \"bail\": 1000000.0, \"days_in_prison\": 49, \"severity\": \"felony\"}, {\"race\": \"\", \"bail\": 0.0, \"days_in_prison\": 6, \"severity\": \"misdemeanor\"}, {\"race\": \"African American\", \"bail\": 750.0, \"days_in_prison\": 124, \"severity\": \"felony\"}, {\"race\": \"Caucasian\", \"bail\": 500.0, \"days_in_prison\": 115, \"severity\": \"felony\"}, {\"race\": \"African American\", \"bail\": 2500.0, \"days_in_prison\": 10, \"severity\": \"misdemeanor\"}, {\"race\": \"Caucasian\", \"bail\": 10000.0, \"days_in_prison\": 4, \"severity\": \"felony\"}, {\"race\": \"African American\", \"bail\": 750.0, \"days_in_prison\": 37, \"severity\": \"felony\"}, {\"race\": \"\", \"bail\": 0.0, \"days_in_prison\": 4, \"severity\": \"misdemeanor\"}, {\"race\": \"African American\", \"bail\": 600.0, \"days_in_prison\": 60, \"severity\": \"felony\"}, {\"race\": \"African American\", \"bail\": 500.0, \"days_in_prison\": 332, \"severity\": \"misdemeanor\"}, {\"race\": \"African American\", \"bail\": 750.0, \"days_in_prison\": 200, \"severity\": \"felony\"}, {\"race\": \"African American\", \"bail\": 4000.0, \"days_in_prison\": 36, \"severity\": \"felony\"}, {\"race\": \"Caucasian\", \"bail\": 500.0, \"days_in_prison\": 16, \"severity\": \"felony\"}, {\"race\": \"African American\", \"bail\": 12000.0, \"days_in_prison\": 15, \"severity\": \"felony\"}, {\"race\": \"Caucasian\", \"bail\": 10000.0, \"days_in_prison\": 10, \"severity\": \"felony\"}, {\"race\": \"Caucasian\", \"bail\": 500.0, \"days_in_prison\": 17, \"severity\": \"felony\"}, {\"race\": \"African American\", \"bail\": 0.0, \"days_in_prison\": 4, \"severity\": \"felony\"}, {\"race\": \"African American\", \"bail\": 500.0, \"days_in_prison\": 27, \"severity\": \"felony\"}, {\"race\": \"Caucasian\", \"bail\": 0.0, \"days_in_prison\": 14, \"severity\": \"felony\"}, {\"race\": \"African American\", \"bail\": 100000.0, \"days_in_prison\": 322, \"severity\": \"felony\"}, {\"race\": \"African American\", \"bail\": 2000.0, \"days_in_prison\": 217, \"severity\": \"felony\"}, {\"race\": \"Caucasian\", \"bail\": 1000000.0, \"days_in_prison\": 421, \"severity\": \"felony\"}, {\"race\": \"African American\", \"bail\": 6000.0, \"days_in_prison\": 163, \"severity\": \"felony\"}, {\"race\": \"Caucasian\", \"bail\": 500.0, \"days_in_prison\": 231, \"severity\": \"felony\"}, {\"race\": \"Caucasian\", \"bail\": 150.0, \"days_in_prison\": 148, \"severity\": \"misdemeanor\"}, {\"race\": \"African American\", \"bail\": 1500.0, \"days_in_prison\": 45, \"severity\": \"felony\"}, {\"race\": \"\", \"bail\": 0.0, \"days_in_prison\": 6, \"severity\": \"misdemeanor\"}, {\"race\": \"Caucasian\", \"bail\": 2000.0, \"days_in_prison\": 7, \"severity\": \"felony\"}, {\"race\": \"African American\", \"bail\": 1000.0, \"days_in_prison\": 36, \"severity\": \"felony\"}, {\"race\": \"African American\", \"bail\": 900.0, \"days_in_prison\": 36, \"severity\": \"felony\"}, {\"race\": \"African American\", \"bail\": 750.0, \"days_in_prison\": 21, \"severity\": \"felony\"}, {\"race\": \"Caucasian\", \"bail\": 500.0, \"days_in_prison\": 7, \"severity\": \"felony\"}, {\"race\": \"African American\", \"bail\": 2500.0, \"days_in_prison\": 199, \"severity\": \"felony\"}, {\"race\": \"Caucasian\", \"bail\": 0.0, \"days_in_prison\": 47, \"severity\": \"misdemeanor\"}, {\"race\": \"African American\", \"bail\": 100000.0, \"days_in_prison\": 35, \"severity\": \"felony\"}, {\"race\": \"Caucasian\", \"bail\": 500.0, \"days_in_prison\": 69, \"severity\": \"felony\"}, {\"race\": \"Caucasian\", \"bail\": 100000.0, \"days_in_prison\": 563, \"severity\": \"felony\"}, {\"race\": \"American Indian or Alaskan Native\", \"bail\": 0.0, \"days_in_prison\": 6, \"severity\": \"misdemeanor\"}, {\"race\": \"Caucasian\", \"bail\": 200.0, \"days_in_prison\": 66, \"severity\": \"felony\"}, {\"race\": \"\", \"bail\": 0.0, \"days_in_prison\": 6, \"severity\": \"misdemeanor\"}, {\"race\": \"\", \"bail\": 0.0, \"days_in_prison\": 4, \"severity\": \"misdemeanor\"}, {\"race\": \"African American\", \"bail\": 5000.0, \"days_in_prison\": 129, \"severity\": \"felony\"}, {\"race\": \"African American\", \"bail\": 0.0, \"days_in_prison\": 100, \"severity\": \"misdemeanor\"}, {\"race\": \"Caucasian\", \"bail\": 250.0, \"days_in_prison\": 5, \"severity\": \"misdemeanor\"}, {\"race\": \"Caucasian\", \"bail\": 50000.0, \"days_in_prison\": 149, \"severity\": \"felony\"}, {\"race\": \"African American\", \"bail\": 500.0, \"days_in_prison\": 9, \"severity\": \"felony\"}, {\"race\": \"African American\", \"bail\": 600.0, \"days_in_prison\": 3, \"severity\": \"felony\"}, {\"race\": \"Caucasian\", \"bail\": 2000.0, \"days_in_prison\": 296, \"severity\": \"felony\"}, {\"race\": \"African American\", \"bail\": 35000.0, \"days_in_prison\": 70, \"severity\": \"felony\"}, {\"race\": \"Caucasian\", \"bail\": 1000.0, \"days_in_prison\": 10, \"severity\": \"felony\"}, {\"race\": \"African American\", \"bail\": 35000.0, \"days_in_prison\": 274, \"severity\": \"felony\"}, {\"race\": \"African American\", \"bail\": 1000000.0, \"days_in_prison\": 281, \"severity\": \"felony\"}, {\"race\": \"African American\", \"bail\": 500000.0, \"days_in_prison\": 330, \"severity\": \"felony\"}, {\"race\": \"African American\", \"bail\": 5000.0, \"days_in_prison\": 332, \"severity\": \"felony\"}, {\"race\": \"African American\", \"bail\": 500.0, \"days_in_prison\": 149, \"severity\": \"felony\"}, {\"race\": \"African American\", \"bail\": 100000.0, \"days_in_prison\": 112, \"severity\": \"felony\"}, {\"race\": \"\", \"bail\": 0.0, \"days_in_prison\": 3, \"severity\": \"misdemeanor\"}, {\"race\": \"African American\", \"bail\": 25000.0, \"days_in_prison\": 23, \"severity\": \"felony\"}, {\"race\": \"\", \"bail\": 0.0, \"days_in_prison\": 5, \"severity\": \"misdemeanor\"}, {\"race\": \"Caucasian\", \"bail\": 0.0, \"days_in_prison\": 6, \"severity\": \"felony\"}, {\"race\": \"African American\", \"bail\": 15000.0, \"days_in_prison\": 137, \"severity\": \"felony\"}, {\"race\": \"African American\", \"bail\": 3000.0, \"days_in_prison\": 571, \"severity\": \"felony\"}, {\"race\": \"Caucasian\", \"bail\": 100000.0, \"days_in_prison\": 526, \"severity\": \"felony\"}, {\"race\": \"Caucasian\", \"bail\": 30000.0, \"days_in_prison\": 109, \"severity\": \"felony\"}, {\"race\": \"\", \"bail\": 0.0, \"days_in_prison\": 2, \"severity\": \"misdemeanor\"}, {\"race\": \"Caucasian\", \"bail\": 300.0, \"days_in_prison\": 35, \"severity\": \"felony\"}, {\"race\": \"African American\", \"bail\": 0.0, \"days_in_prison\": 103, \"severity\": \"misdemeanor\"}, {\"race\": \"African American\", \"bail\": 500.0, \"days_in_prison\": 35, \"severity\": \"misdemeanor\"}, {\"race\": \"African American\", \"bail\": 500.0, \"days_in_prison\": 232, \"severity\": \"felony\"}, {\"race\": \"African American\", \"bail\": 11000.0, \"days_in_prison\": 660, \"severity\": \"felony\"}]}}, {\"mode\": \"vega-lite\"});\n",
       "</script>"
      ],
      "text/plain": [
       "alt.FacetChart(...)"
      ]
     },
     "execution_count": 32,
     "metadata": {},
     "output_type": "execute_result"
    }
   ],
   "source": [
    "# Prefab stable colors for charts\n",
    "domain = ['African American', 'American Indian or Alaskan Native', 'Asian or Pacific Islander', 'Caucasian', 'Hispanic', 'Unknown']\n",
    "range_ = ['red', 'green', 'blue', 'orange', 'purple', 'grey']\n",
    "race = alt.Color('race:N', scale=alt.Scale(domain=domain, range=range_))\n",
    "\n",
    "# Facet across both felonies and misdemeanors\n",
    "alt.Chart(data).mark_circle(size=30, opacity clip=True).encode(\n",
    "    y=alt.Y('days_in_prison:Q',\n",
    "        scale=alt.Scale(domain=(0, 365))\n",
    "    ),\n",
    "    x=alt.X('bail:Q',\n",
    "        scale=alt.Scale(domain=(0, 1000))\n",
    "    ),\n",
    "    color=race,\n",
    ").facet(\n",
    "    row='severity:N'\n",
    ")"
   ]
  },
  {
   "cell_type": "code",
   "execution_count": 31,
   "id": "increasing-earth",
   "metadata": {},
   "outputs": [
    {
     "data": {
      "text/html": [
       "\n",
       "<div id=\"altair-viz-b43384dc07df43138ad083a812ac4107\"></div>\n",
       "<script type=\"text/javascript\">\n",
       "  (function(spec, embedOpt){\n",
       "    let outputDiv = document.currentScript.previousElementSibling;\n",
       "    if (outputDiv.id !== \"altair-viz-b43384dc07df43138ad083a812ac4107\") {\n",
       "      outputDiv = document.getElementById(\"altair-viz-b43384dc07df43138ad083a812ac4107\");\n",
       "    }\n",
       "    const paths = {\n",
       "      \"vega\": \"https://cdn.jsdelivr.net/npm//vega@5?noext\",\n",
       "      \"vega-lib\": \"https://cdn.jsdelivr.net/npm//vega-lib?noext\",\n",
       "      \"vega-lite\": \"https://cdn.jsdelivr.net/npm//vega-lite@4.8.1?noext\",\n",
       "      \"vega-embed\": \"https://cdn.jsdelivr.net/npm//vega-embed@6?noext\",\n",
       "    };\n",
       "\n",
       "    function loadScript(lib) {\n",
       "      return new Promise(function(resolve, reject) {\n",
       "        var s = document.createElement('script');\n",
       "        s.src = paths[lib];\n",
       "        s.async = true;\n",
       "        s.onload = () => resolve(paths[lib]);\n",
       "        s.onerror = () => reject(`Error loading script: ${paths[lib]}`);\n",
       "        document.getElementsByTagName(\"head\")[0].appendChild(s);\n",
       "      });\n",
       "    }\n",
       "\n",
       "    function showError(err) {\n",
       "      outputDiv.innerHTML = `<div class=\"error\" style=\"color:red;\">${err}</div>`;\n",
       "      throw err;\n",
       "    }\n",
       "\n",
       "    function displayChart(vegaEmbed) {\n",
       "      vegaEmbed(outputDiv, spec, embedOpt)\n",
       "        .catch(err => showError(`Javascript Error: ${err.message}<br>This usually means there's a typo in your chart specification. See the javascript console for the full traceback.`));\n",
       "    }\n",
       "\n",
       "    if(typeof define === \"function\" && define.amd) {\n",
       "      requirejs.config({paths});\n",
       "      require([\"vega-embed\"], displayChart, err => showError(`Error loading script: ${err.message}`));\n",
       "    } else if (typeof vegaEmbed === \"function\") {\n",
       "      displayChart(vegaEmbed);\n",
       "    } else {\n",
       "      loadScript(\"vega\")\n",
       "        .then(() => loadScript(\"vega-lite\"))\n",
       "        .then(() => loadScript(\"vega-embed\"))\n",
       "        .catch(showError)\n",
       "        .then(() => displayChart(vegaEmbed));\n",
       "    }\n",
       "  })({\"config\": {\"view\": {\"continuousWidth\": 400, \"continuousHeight\": 300}}, \"layer\": [{\"mark\": {\"type\": \"circle\", \"clip\": true, \"size\": 30}, \"encoding\": {\"color\": {\"type\": \"nominal\", \"field\": \"race\", \"scale\": {\"domain\": [\"African American\", \"American Indian or Alaskan Native\", \"Asian or Pacific Islander\", \"Caucasian\", \"Hispanic\", \"Unknown\"], \"range\": [\"red\", \"green\", \"blue\", \"orange\", \"purple\", \"grey\"]}}, \"x\": {\"type\": \"quantitative\", \"field\": \"bail\", \"scale\": {\"domain\": [0, 800]}}, \"y\": {\"type\": \"quantitative\", \"field\": \"days_in_prison\", \"scale\": {\"domain\": [0, 365]}}}}, {\"mark\": {\"type\": \"line\", \"size\": 4}, \"encoding\": {\"color\": {\"type\": \"nominal\", \"field\": \"race\", \"scale\": {\"domain\": [\"African American\", \"American Indian or Alaskan Native\", \"Asian or Pacific Islander\", \"Caucasian\", \"Hispanic\", \"Unknown\"], \"range\": [\"red\", \"green\", \"blue\", \"orange\", \"purple\", \"grey\"]}}, \"x\": {\"type\": \"quantitative\", \"field\": \"bail\", \"scale\": {\"domain\": [0, 800]}}, \"y\": {\"type\": \"quantitative\", \"field\": \"days_in_prison\", \"scale\": {\"domain\": [0, 365]}}}, \"transform\": [{\"loess\": \"y\", \"on\": \"x\", \"groupby\": [\"race\"]}]}], \"data\": {\"name\": \"data-d36b6c508eaef099d553168d639fa36a\"}, \"$schema\": \"https://vega.github.io/schema/vega-lite/v4.8.1.json\", \"datasets\": {\"data-d36b6c508eaef099d553168d639fa36a\": [{\"race\": \"Caucasian\", \"bail\": 0.0, \"days_in_prison\": 171, \"severity\": \"misdemeanor\"}, {\"race\": \"African American\", \"bail\": 500.0, \"days_in_prison\": 14, \"severity\": \"misdemeanor\"}, {\"race\": \"Caucasian\", \"bail\": 100.0, \"days_in_prison\": 316, \"severity\": \"misdemeanor\"}, {\"race\": \"African American\", \"bail\": 150.0, \"days_in_prison\": 6, \"severity\": \"misdemeanor\"}, {\"race\": \"Caucasian\", \"bail\": 150.0, \"days_in_prison\": 24, \"severity\": \"misdemeanor\"}, {\"race\": \"Caucasian\", \"bail\": 0.0, \"days_in_prison\": 47, \"severity\": \"misdemeanor\"}, {\"race\": \"African American\", \"bail\": 300.0, \"days_in_prison\": 17, \"severity\": \"misdemeanor\"}, {\"race\": \"Caucasian\", \"bail\": 0.0, \"days_in_prison\": 46, \"severity\": \"misdemeanor\"}, {\"race\": \"\", \"bail\": 0.0, \"days_in_prison\": 3, \"severity\": \"misdemeanor\"}, {\"race\": \"Caucasian\", \"bail\": 200.0, \"days_in_prison\": 44, \"severity\": \"misdemeanor\"}, {\"race\": \"\", \"bail\": 0.0, \"days_in_prison\": 4, \"severity\": \"misdemeanor\"}, {\"race\": \"\", \"bail\": 0.0, \"days_in_prison\": 48, \"severity\": \"misdemeanor\"}, {\"race\": \"\", \"bail\": 0.0, \"days_in_prison\": 3, \"severity\": \"misdemeanor\"}, {\"race\": \"African American\", \"bail\": 0.0, \"days_in_prison\": 108, \"severity\": \"misdemeanor\"}, {\"race\": \"Caucasian\", \"bail\": 0.0, \"days_in_prison\": 13, \"severity\": \"misdemeanor\"}, {\"race\": \"African American\", \"bail\": 100.0, \"days_in_prison\": 410, \"severity\": \"misdemeanor\"}, {\"race\": \"African American\", \"bail\": 250.0, \"days_in_prison\": 60, \"severity\": \"misdemeanor\"}, {\"race\": \"African American\", \"bail\": 250.0, \"days_in_prison\": 84, \"severity\": \"misdemeanor\"}, {\"race\": \"Hispanic\", \"bail\": 100.0, \"days_in_prison\": 493, \"severity\": \"misdemeanor\"}, {\"race\": \"\", \"bail\": 0.0, \"days_in_prison\": 3, \"severity\": \"misdemeanor\"}, {\"race\": \"African American\", \"bail\": 100.0, \"days_in_prison\": 94, \"severity\": \"misdemeanor\"}, {\"race\": \"Caucasian\", \"bail\": 100.0, \"days_in_prison\": 50, \"severity\": \"misdemeanor\"}, {\"race\": \"\", \"bail\": 0.0, \"days_in_prison\": 2, \"severity\": \"misdemeanor\"}, {\"race\": \"African American\", \"bail\": 0.0, \"days_in_prison\": 594, \"severity\": \"misdemeanor\"}, {\"race\": \"\", \"bail\": 0.0, \"days_in_prison\": 6, \"severity\": \"misdemeanor\"}, {\"race\": \"African American\", \"bail\": 250.0, \"days_in_prison\": 30, \"severity\": \"misdemeanor\"}, {\"race\": \"\", \"bail\": 0.0, \"days_in_prison\": 4, \"severity\": \"misdemeanor\"}, {\"race\": \"\", \"bail\": 0.0, \"days_in_prison\": 5, \"severity\": \"misdemeanor\"}, {\"race\": \"African American\", \"bail\": 0.0, \"days_in_prison\": 50, \"severity\": \"misdemeanor\"}, {\"race\": \"African American\", \"bail\": 1000.0, \"days_in_prison\": 38, \"severity\": \"misdemeanor\"}, {\"race\": \"\", \"bail\": 0.0, \"days_in_prison\": 3, \"severity\": \"misdemeanor\"}, {\"race\": \"Caucasian\", \"bail\": 0.0, \"days_in_prison\": 7, \"severity\": \"misdemeanor\"}, {\"race\": \"\", \"bail\": 0.0, \"days_in_prison\": 3, \"severity\": \"misdemeanor\"}, {\"race\": \"\", \"bail\": 0.0, \"days_in_prison\": 5, \"severity\": \"misdemeanor\"}, {\"race\": \"\", \"bail\": 0.0, \"days_in_prison\": 12, \"severity\": \"misdemeanor\"}, {\"race\": \"\", \"bail\": 0.0, \"days_in_prison\": 4, \"severity\": \"misdemeanor\"}, {\"race\": \"African American\", \"bail\": 0.0, \"days_in_prison\": 98, \"severity\": \"misdemeanor\"}, {\"race\": \"African American\", \"bail\": 250.0, \"days_in_prison\": 119, \"severity\": \"misdemeanor\"}, {\"race\": \"Caucasian\", \"bail\": 200.0, \"days_in_prison\": 129, \"severity\": \"misdemeanor\"}, {\"race\": \"\", \"bail\": 0.0, \"days_in_prison\": 3, \"severity\": \"misdemeanor\"}, {\"race\": \"African American\", \"bail\": 0.0, \"days_in_prison\": 325, \"severity\": \"misdemeanor\"}, {\"race\": \"Caucasian\", \"bail\": 250.0, \"days_in_prison\": 17, \"severity\": \"misdemeanor\"}, {\"race\": \"\", \"bail\": 0.0, \"days_in_prison\": 5, \"severity\": \"misdemeanor\"}, {\"race\": \"\", \"bail\": 0.0, \"days_in_prison\": 3, \"severity\": \"misdemeanor\"}, {\"race\": \"Caucasian\", \"bail\": 0.0, \"days_in_prison\": 6, \"severity\": \"misdemeanor\"}, {\"race\": \"African American\", \"bail\": 0.0, \"days_in_prison\": 3, \"severity\": \"misdemeanor\"}, {\"race\": \"\", \"bail\": 0.0, \"days_in_prison\": 3, \"severity\": \"misdemeanor\"}, {\"race\": \"\", \"bail\": 0.0, \"days_in_prison\": 5, \"severity\": \"misdemeanor\"}, {\"race\": \"Caucasian\", \"bail\": 500.0, \"days_in_prison\": 4, \"severity\": \"misdemeanor\"}, {\"race\": \"African American\", \"bail\": 150.0, \"days_in_prison\": 43, \"severity\": \"misdemeanor\"}, {\"race\": \"\", \"bail\": 0.0, \"days_in_prison\": 6, \"severity\": \"misdemeanor\"}, {\"race\": \"African American\", \"bail\": 2500.0, \"days_in_prison\": 10, \"severity\": \"misdemeanor\"}, {\"race\": \"\", \"bail\": 0.0, \"days_in_prison\": 4, \"severity\": \"misdemeanor\"}, {\"race\": \"African American\", \"bail\": 500.0, \"days_in_prison\": 332, \"severity\": \"misdemeanor\"}, {\"race\": \"Caucasian\", \"bail\": 150.0, \"days_in_prison\": 148, \"severity\": \"misdemeanor\"}, {\"race\": \"\", \"bail\": 0.0, \"days_in_prison\": 6, \"severity\": \"misdemeanor\"}, {\"race\": \"Caucasian\", \"bail\": 0.0, \"days_in_prison\": 47, \"severity\": \"misdemeanor\"}, {\"race\": \"American Indian or Alaskan Native\", \"bail\": 0.0, \"days_in_prison\": 6, \"severity\": \"misdemeanor\"}, {\"race\": \"\", \"bail\": 0.0, \"days_in_prison\": 6, \"severity\": \"misdemeanor\"}, {\"race\": \"\", \"bail\": 0.0, \"days_in_prison\": 4, \"severity\": \"misdemeanor\"}, {\"race\": \"African American\", \"bail\": 0.0, \"days_in_prison\": 100, \"severity\": \"misdemeanor\"}, {\"race\": \"Caucasian\", \"bail\": 250.0, \"days_in_prison\": 5, \"severity\": \"misdemeanor\"}, {\"race\": \"\", \"bail\": 0.0, \"days_in_prison\": 3, \"severity\": \"misdemeanor\"}, {\"race\": \"\", \"bail\": 0.0, \"days_in_prison\": 5, \"severity\": \"misdemeanor\"}, {\"race\": \"\", \"bail\": 0.0, \"days_in_prison\": 2, \"severity\": \"misdemeanor\"}, {\"race\": \"African American\", \"bail\": 0.0, \"days_in_prison\": 103, \"severity\": \"misdemeanor\"}, {\"race\": \"African American\", \"bail\": 500.0, \"days_in_prison\": 35, \"severity\": \"misdemeanor\"}]}}, {\"mode\": \"vega-lite\"});\n",
       "</script>"
      ],
      "text/plain": [
       "alt.LayerChart(...)"
      ]
     },
     "execution_count": 31,
     "metadata": {},
     "output_type": "execute_result"
    }
   ],
   "source": [
    "# Misdemeanors only with trend lines\n",
    "misdemeanors = data.query('severity==\"misdemeanor\"')\n",
    "\n",
    "base = alt.Chart(misdemeanors).mark_circle(size=30, clip=True).encode(\n",
    "    y=alt.Y('days_in_prison:Q',\n",
    "        scale=alt.Scale(domain=(0, 365))\n",
    "    ),\n",
    "    x=alt.X('bail:Q',\n",
    "        scale=alt.Scale(domain=(0, 800))\n",
    "    ),\n",
    "    color=race,\n",
    ")\n",
    "\n",
    "base + base.transform_loess('x', 'y', groupby=['race']).mark_line(size=4)"
   ]
  },
  {
   "cell_type": "code",
   "execution_count": null,
   "id": "confused-saudi",
   "metadata": {},
   "outputs": [],
   "source": []
  }
 ],
 "metadata": {
  "kernelspec": {
   "display_name": "Python 3",
   "language": "python",
   "name": "python3"
  },
  "language_info": {
   "codemirror_mode": {
    "name": "ipython",
    "version": 3
   },
   "file_extension": ".py",
   "mimetype": "text/x-python",
   "name": "python",
   "nbconvert_exporter": "python",
   "pygments_lexer": "ipython3",
   "version": "3.8.5"
  }
 },
 "nbformat": 4,
 "nbformat_minor": 5
}
