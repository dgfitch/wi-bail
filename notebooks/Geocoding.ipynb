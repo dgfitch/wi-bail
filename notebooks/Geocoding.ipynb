{
 "cells": [
  {
   "cell_type": "code",
   "execution_count": null,
   "metadata": {},
   "outputs": [],
   "source": [
    "from pony.orm import *\n",
    "import geocoder\n",
    "import requests\n",
    "import json"
   ]
  },
  {
   "cell_type": "code",
   "execution_count": null,
   "metadata": {},
   "outputs": [],
   "source": [
    "from bail.db import DB, Case, GeocodedAddress\n",
    "db = DB()"
   ]
  },
  {
   "cell_type": "code",
   "execution_count": null,
   "metadata": {},
   "outputs": [],
   "source": [
    "data = select(c for c in Case if c.address != None)"
   ]
  },
  {
   "cell_type": "code",
   "execution_count": null,
   "metadata": {},
   "outputs": [],
   "source": [
    "with requests.Session() as session:\n",
    "    def geocode(x):\n",
    "        if not x or x == \"\":\n",
    "            return None\n",
    "        existing = GeocodedAddress.select(lambda a: x == a.address)\n",
    "        if existing:\n",
    "            print(f\"{x}: existing!\")\n",
    "        else:\n",
    "            g = geocoder.osm(x, session=session)\n",
    "            if g.ok:\n",
    "                GeocodedAddress(\n",
    "                    address=x,\n",
    "                    latitude=g.latlng[0],\n",
    "                    longitude=g.latlng[1],\n",
    "                )\n",
    "                flush()\n",
    "                print(f\"{x}: {g.latlng}\")\n",
    "\n",
    "    for c in data:\n",
    "        geocode(c.address)"
   ]
  },
  {
   "cell_type": "code",
   "execution_count": null,
   "metadata": {},
   "outputs": [],
   "source": [
    "addresses = [{'address': a.address, 'longitude': a.longitude, 'latitude': a.latitude} for a in GeocodedAddress.select()]"
   ]
  },
  {
   "cell_type": "code",
   "execution_count": null,
   "metadata": {},
   "outputs": [],
   "source": [
    "out_file = open(\"geocode.json\", \"w\") \n",
    "json.dump(addresses, out_file)"
   ]
  },
  {
   "cell_type": "code",
   "execution_count": null,
   "metadata": {},
   "outputs": [],
   "source": [
    "GeocodedAddress.select().count()"
   ]
  },
  {
   "cell_type": "code",
   "execution_count": null,
   "metadata": {},
   "outputs": [],
   "source": []
  }
 ],
 "metadata": {
  "kernelspec": {
   "display_name": "Python 3",
   "language": "python",
   "name": "python3"
  },
  "language_info": {
   "codemirror_mode": {
    "name": "ipython",
    "version": 3
   },
   "file_extension": ".py",
   "mimetype": "text/x-python",
   "name": "python",
   "nbconvert_exporter": "python",
   "pygments_lexer": "ipython3",
   "version": "3.8.5"
  }
 },
 "nbformat": 4,
 "nbformat_minor": 4
}
